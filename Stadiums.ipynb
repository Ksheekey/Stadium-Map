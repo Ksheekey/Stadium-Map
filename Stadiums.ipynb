{
 "cells": [
  {
   "cell_type": "code",
   "execution_count": 1,
   "metadata": {},
   "outputs": [],
   "source": [
    "#dependencies\n",
    "from pprint import pprint\n",
    "import pandas as pd\n",
    "import numpy as np\n",
    "import time\n",
    "import timeit\n",
    "import requests\n",
    "import json\n",
    "import re\n",
    "from config import gkey\n",
    "\n",
    "# start program run timer\n",
    "start = timeit.default_timer()\n",
    "\n",
    "# setting variables\n",
    "arena_ltlg = []\n",
    "x = 0"
   ]
  },
  {
   "cell_type": "markdown",
   "metadata": {},
   "source": [
    "# NHL"
   ]
  },
  {
   "cell_type": "code",
   "execution_count": 2,
   "metadata": {},
   "outputs": [
    {
     "name": "stderr",
     "output_type": "stream",
     "text": [
      "<ipython-input-2-930369937d18>:8: SettingWithCopyWarning: \n",
      "A value is trying to be set on a copy of a slice from a DataFrame.\n",
      "Try using .loc[row_indexer,col_indexer] = value instead\n",
      "\n",
      "See the caveats in the documentation: https://pandas.pydata.org/pandas-docs/stable/user_guide/indexing.html#returning-a-view-versus-a-copy\n",
      "  NHLteam_arena['ArenaAPI'] = [re.sub(r'\\s+', '%20', x) for x in NHLteam_arena['Arena']]\n",
      "<ipython-input-2-930369937d18>:9: SettingWithCopyWarning: \n",
      "A value is trying to be set on a copy of a slice from a DataFrame.\n",
      "Try using .loc[row_indexer,col_indexer] = value instead\n",
      "\n",
      "See the caveats in the documentation: https://pandas.pydata.org/pandas-docs/stable/user_guide/indexing.html#returning-a-view-versus-a-copy\n",
      "  NHLteam_arena['ArenaAPI'] = NHLteam_arena['ArenaAPI'].replace({'&': ''}, regex=True)\n"
     ]
    }
   ],
   "source": [
    "# pulling the table and columns wanted\n",
    "NHLurl = 'https://en.wikipedia.org/wiki/List_of_National_Hockey_League_arenas'\n",
    "tables = pd.read_html(NHLurl, header=[0])\n",
    "NHLdf = tables[0]\n",
    "NHLteam_arena = NHLdf[['Team','Arena']]\n",
    "\n",
    "# column cleanup\n",
    "NHLteam_arena['ArenaAPI'] = [re.sub(r'\\s+', '%20', x) for x in NHLteam_arena['Arena']]\n",
    "NHLteam_arena['ArenaAPI'] = NHLteam_arena['ArenaAPI'].replace({'&': ''}, regex=True)\n",
    "\n",
    "# for loop to build data structure\n",
    "for arena in NHLteam_arena['ArenaAPI']:\n",
    "    # found some location accuracy issues so fixed them \n",
    "    # Fixing Pittsburgh Penguins\n",
    "    if arena == 'PPG%20Paints%20Arena':\n",
    "        arena = 'PPG%20Arena'\n",
    "    # Fixing Edmonton Oilers\n",
    "    if arena == 'Rogers%20Place':\n",
    "        arena = 'Rogers%20Place%20Arena'\n",
    "    target_arena = arena\n",
    "\n",
    "    # Build the endpoint URL\n",
    "    target_url = (f'https://maps.googleapis.com/maps/api/geocode/json?'\n",
    "        'address={0}&key={1}').format(target_arena, gkey)\n",
    "    geo_data = requests.get(target_url).json()\n",
    "    lat = geo_data['results'][0]['geometry']['location']['lat']\n",
    "    lng = geo_data['results'][0]['geometry']['location']['lng']\n",
    "    address = geo_data['results'][0]['formatted_address']\n",
    "    arena_ltlg.append({\"team\" : NHLteam_arena['Team'][x],\n",
    "                     \"location\" : [lat, lng],\n",
    "                     \"address\" : address,\n",
    "                     \"arena\" : NHLteam_arena['Arena'][x],\n",
    "                      \"sport\" : \"NHL\"})\n",
    "    x+=1\n",
    "    \n",
    "# pprint(arena_ltlg)"
   ]
  },
  {
   "cell_type": "markdown",
   "metadata": {},
   "source": [
    "# NFL"
   ]
  },
  {
   "cell_type": "code",
   "execution_count": 3,
   "metadata": {},
   "outputs": [
    {
     "name": "stderr",
     "output_type": "stream",
     "text": [
      "<ipython-input-3-d6852a1c4046>:6: SettingWithCopyWarning: \n",
      "A value is trying to be set on a copy of a slice from a DataFrame.\n",
      "Try using .loc[row_indexer,col_indexer] = value instead\n",
      "\n",
      "See the caveats in the documentation: https://pandas.pydata.org/pandas-docs/stable/user_guide/indexing.html#returning-a-view-versus-a-copy\n",
      "  NFLteam_arena['ArenaAPI'] = [re.sub(r'\\s+', '%20', x) for x in NFLteam_arena['Name']]\n",
      "<ipython-input-3-d6852a1c4046>:7: SettingWithCopyWarning: \n",
      "A value is trying to be set on a copy of a slice from a DataFrame.\n",
      "Try using .loc[row_indexer,col_indexer] = value instead\n",
      "\n",
      "See the caveats in the documentation: https://pandas.pydata.org/pandas-docs/stable/user_guide/indexing.html#returning-a-view-versus-a-copy\n",
      "  NFLteam_arena['ArenaAPI'] = NFLteam_arena['ArenaAPI'].replace({'&': ''}, regex=True)\n"
     ]
    }
   ],
   "source": [
    "NFLurl = 'https://en.wikipedia.org/wiki/List_of_current_National_Football_League_stadiums'\n",
    "tables = pd.read_html(NFLurl, header=[0])\n",
    "NFLdf = tables[0]\n",
    "NFLteam_arena = NFLdf[['Team(s)','Name']]\n",
    "\n",
    "NFLteam_arena['ArenaAPI'] = [re.sub(r'\\s+', '%20', x) for x in NFLteam_arena['Name']]\n",
    "NFLteam_arena['ArenaAPI'] = NFLteam_arena['ArenaAPI'].replace({'&': ''}, regex=True)\n",
    "\n",
    "x = 0\n",
    "for arena in NFLteam_arena['ArenaAPI'] :\n",
    "    target_arena = arena\n",
    "\n",
    "    target_url = (f'https://maps.googleapis.com/maps/api/geocode/json?'\n",
    "        'address={0}&key={1}').format(target_arena, gkey)\n",
    "    geo_data = requests.get(target_url).json()\n",
    "    if target_arena != 'Highmark%20Stadium':\n",
    "        lat = geo_data['results'][0]['geometry']['location']['lat']\n",
    "        lng = geo_data['results'][0]['geometry']['location']['lng']\n",
    "        address = geo_data['results'][0]['formatted_address']\n",
    "    # Fixing Buffalo Bills\n",
    "    else:\n",
    "        lat = geo_data['results'][1]['geometry']['location']['lat']\n",
    "        lng = geo_data['results'][1]['geometry']['location']['lng']\n",
    "        address = geo_data['results'][1]['formatted_address']\n",
    "    arena_ltlg.append({\"team\" : NFLteam_arena['Team(s)'][x],\n",
    "                     \"location\" : [lat, lng],\n",
    "                       \"address\" : address,\n",
    "                     \"arena\" : NFLteam_arena['Name'][x],\n",
    "                      \"sport\" : \"NFL\"})\n",
    "    x+=1\n",
    "\n",
    "# pprint(arena_ltlg)"
   ]
  },
  {
   "cell_type": "markdown",
   "metadata": {},
   "source": [
    "# MLB"
   ]
  },
  {
   "cell_type": "code",
   "execution_count": 4,
   "metadata": {},
   "outputs": [
    {
     "name": "stderr",
     "output_type": "stream",
     "text": [
      "<ipython-input-4-892679a48f15>:6: SettingWithCopyWarning: \n",
      "A value is trying to be set on a copy of a slice from a DataFrame.\n",
      "Try using .loc[row_indexer,col_indexer] = value instead\n",
      "\n",
      "See the caveats in the documentation: https://pandas.pydata.org/pandas-docs/stable/user_guide/indexing.html#returning-a-view-versus-a-copy\n",
      "  MLBteam_arena['ArenaAPI'] = [re.sub(r'\\s+', '%20', x) for x in MLBteam_arena['Name']]\n",
      "<ipython-input-4-892679a48f15>:7: SettingWithCopyWarning: \n",
      "A value is trying to be set on a copy of a slice from a DataFrame.\n",
      "Try using .loc[row_indexer,col_indexer] = value instead\n",
      "\n",
      "See the caveats in the documentation: https://pandas.pydata.org/pandas-docs/stable/user_guide/indexing.html#returning-a-view-versus-a-copy\n",
      "  MLBteam_arena['Team'] = MLBteam_arena['Team'].replace({'nb 2': '', 'nb 3':''}, regex=True)\n",
      "<ipython-input-4-892679a48f15>:8: SettingWithCopyWarning: \n",
      "A value is trying to be set on a copy of a slice from a DataFrame.\n",
      "Try using .loc[row_indexer,col_indexer] = value instead\n",
      "\n",
      "See the caveats in the documentation: https://pandas.pydata.org/pandas-docs/stable/user_guide/indexing.html#returning-a-view-versus-a-copy\n",
      "  MLBteam_arena['Team'] = MLBteam_arena['Team'].str.replace('[', '')\n",
      "<ipython-input-4-892679a48f15>:9: SettingWithCopyWarning: \n",
      "A value is trying to be set on a copy of a slice from a DataFrame.\n",
      "Try using .loc[row_indexer,col_indexer] = value instead\n",
      "\n",
      "See the caveats in the documentation: https://pandas.pydata.org/pandas-docs/stable/user_guide/indexing.html#returning-a-view-versus-a-copy\n",
      "  MLBteam_arena['Team'] = MLBteam_arena['Team'].str.replace(']', '')\n"
     ]
    }
   ],
   "source": [
    "MLBurl = 'https://en.wikipedia.org/wiki/List_of_current_Major_League_Baseball_stadiums'\n",
    "tables = pd.read_html(MLBurl, header=[0])\n",
    "MLBdf = tables[1]\n",
    "MLBteam_arena = MLBdf[['Team','Name']]\n",
    "\n",
    "MLBteam_arena['ArenaAPI'] = [re.sub(r'\\s+', '%20', x) for x in MLBteam_arena['Name']]\n",
    "MLBteam_arena['Team'] = MLBteam_arena['Team'].replace({'nb 2': '', 'nb 3':''}, regex=True)\n",
    "MLBteam_arena['Team'] = MLBteam_arena['Team'].str.replace('[', '')\n",
    "MLBteam_arena['Team'] = MLBteam_arena['Team'].str.replace(']', '')\n",
    "\n",
    "x = 0\n",
    "for arena in MLBteam_arena['ArenaAPI']:\n",
    "    target_arena = arena\n",
    "\n",
    "    target_url = (f'https://maps.googleapis.com/maps/api/geocode/json?'\n",
    "        'address={0}&key={1}').format(target_arena, gkey)\n",
    "    geo_data = requests.get(target_url).json()\n",
    "    lat = geo_data['results'][0]['geometry']['location']['lat']\n",
    "    lng = geo_data['results'][0]['geometry']['location']['lng']\n",
    "    address = geo_data['results'][0]['formatted_address']\n",
    "    arena_ltlg.append({\"team\" : MLBteam_arena['Team'][x],\n",
    "                     \"location\" : [lat, lng],\n",
    "                       \"address\" : address,\n",
    "                     \"arena\" : MLBteam_arena['Name'][x],\n",
    "                      \"sport\" : \"MLB\"})\n",
    "    x+=1\n",
    "\n",
    "# pprint(arena_ltlg)"
   ]
  },
  {
   "cell_type": "markdown",
   "metadata": {},
   "source": [
    "# NBA"
   ]
  },
  {
   "cell_type": "code",
   "execution_count": 5,
   "metadata": {},
   "outputs": [
    {
     "name": "stderr",
     "output_type": "stream",
     "text": [
      "<ipython-input-5-9f1593f2213c>:6: SettingWithCopyWarning: \n",
      "A value is trying to be set on a copy of a slice from a DataFrame.\n",
      "Try using .loc[row_indexer,col_indexer] = value instead\n",
      "\n",
      "See the caveats in the documentation: https://pandas.pydata.org/pandas-docs/stable/user_guide/indexing.html#returning-a-view-versus-a-copy\n",
      "  NBAteam_arena['ArenaAPI'] = [re.sub(r'\\s+', '%20', x) for x in NBAteam_arena['Arena']]\n",
      "<ipython-input-5-9f1593f2213c>:7: SettingWithCopyWarning: \n",
      "A value is trying to be set on a copy of a slice from a DataFrame.\n",
      "Try using .loc[row_indexer,col_indexer] = value instead\n",
      "\n",
      "See the caveats in the documentation: https://pandas.pydata.org/pandas-docs/stable/user_guide/indexing.html#returning-a-view-versus-a-copy\n",
      "  NBAteam_arena['ArenaAPI'] = NBAteam_arena['ArenaAPI'].replace({'&': ''}, regex=True)\n"
     ]
    }
   ],
   "source": [
    "NBAurl = 'https://en.wikipedia.org/wiki/List_of_National_Basketball_Association_arenas'\n",
    "tables = pd.read_html(NBAurl, header=[0])\n",
    "NBAdf = tables[0]\n",
    "NBAteam_arena = NBAdf[['Team(s)','Arena']]\n",
    "\n",
    "NBAteam_arena['ArenaAPI'] = [re.sub(r'\\s+', '%20', x) for x in NBAteam_arena['Arena']]\n",
    "NBAteam_arena['ArenaAPI'] = NBAteam_arena['ArenaAPI'].replace({'&': ''}, regex=True)\n",
    "\n",
    "x = 0\n",
    "for arena in NBAteam_arena['ArenaAPI']:\n",
    "    target_arena = arena\n",
    "\n",
    "    target_url = (f'https://maps.googleapis.com/maps/api/geocode/json?'\n",
    "        'address={0}&key={1}').format(target_arena, gkey)\n",
    "    geo_data = requests.get(target_url).json()\n",
    "    lat = geo_data['results'][0]['geometry']['location']['lat']\n",
    "    lng = geo_data['results'][0]['geometry']['location']['lng']\n",
    "    address = geo_data['results'][0]['formatted_address']\n",
    "    arena_ltlg.append({\"team\" : NBAteam_arena['Team(s)'][x],\n",
    "                     \"location\" : [lat, lng],\n",
    "                       \"address\" : address,\n",
    "                     \"arena\" : NBAteam_arena['Arena'][x],\n",
    "                      \"sport\" : \"NBA\"})\n",
    "    x+=1\n",
    "\n",
    "# pprint(arena_ltlg)"
   ]
  },
  {
   "cell_type": "markdown",
   "metadata": {},
   "source": [
    "# MLS"
   ]
  },
  {
   "cell_type": "code",
   "execution_count": 6,
   "metadata": {},
   "outputs": [
    {
     "name": "stderr",
     "output_type": "stream",
     "text": [
      "<ipython-input-6-33dd64b3feec>:6: SettingWithCopyWarning: \n",
      "A value is trying to be set on a copy of a slice from a DataFrame.\n",
      "Try using .loc[row_indexer,col_indexer] = value instead\n",
      "\n",
      "See the caveats in the documentation: https://pandas.pydata.org/pandas-docs/stable/user_guide/indexing.html#returning-a-view-versus-a-copy\n",
      "  MLSteam_arena['ArenaAPI'] = [re.sub(r'\\s+', '%20', x) for x in MLSteam_arena['Stadium']]\n"
     ]
    }
   ],
   "source": [
    "MLSurl = 'https://en.wikipedia.org/wiki/List_of_Major_League_Soccer_stadiums'\n",
    "tables = pd.read_html(MLSurl, header=[0])\n",
    "MLSdf = tables[1]\n",
    "MLSteam_arena = MLSdf[['Franchise','Stadium']]\n",
    "\n",
    "MLSteam_arena['ArenaAPI'] = [re.sub(r'\\s+', '%20', x) for x in MLSteam_arena['Stadium']]\n",
    "\n",
    "x = 0\n",
    "for arena in MLSteam_arena['ArenaAPI']:\n",
    "    # Fixing Portland Timbers\n",
    "    if arena == 'Providence%20Park':\n",
    "        arena = 'Providence%20Park%20Arena'\n",
    "    target_arena = arena\n",
    "\n",
    "    target_url = (f'https://maps.googleapis.com/maps/api/geocode/json?'\n",
    "        'address={0}&key={1}').format(target_arena, gkey)\n",
    "    geo_data = requests.get(target_url).json()\n",
    "    lat = geo_data['results'][0]['geometry']['location']['lat']\n",
    "    lng = geo_data['results'][0]['geometry']['location']['lng']\n",
    "    address = geo_data['results'][0]['formatted_address']\n",
    "    arena_ltlg.append({\"team\" : MLSteam_arena['Franchise'][x],\n",
    "                     \"location\" : [lat, lng],\n",
    "                       \"address\" : address,\n",
    "                     \"arena\" : MLSteam_arena['Stadium'][x],\n",
    "                      \"sport\" : \"MLS\"})\n",
    "    x+=1\n",
    "\n",
    "# pprint(arena_ltlg)"
   ]
  },
  {
   "cell_type": "code",
   "execution_count": 7,
   "metadata": {},
   "outputs": [],
   "source": [
    "with open('arenaInfo.json', 'w') as f:\n",
    "    json.dump(arena_ltlg, f)"
   ]
  },
  {
   "cell_type": "code",
   "execution_count": 8,
   "metadata": {},
   "outputs": [
    {
     "name": "stdout",
     "output_type": "stream",
     "text": [
      "Time to run: 73.850689424 seconds\n"
     ]
    }
   ],
   "source": [
    "# stop program run timer\n",
    "stop = timeit.default_timer()\n",
    "\n",
    "# view how long it took to run\n",
    "# try and find improvments to speed up later\n",
    "print('Time to run:', stop - start, 'seconds')"
   ]
  },
  {
   "cell_type": "code",
   "execution_count": null,
   "metadata": {},
   "outputs": [],
   "source": []
  }
 ],
 "metadata": {
  "kernelspec": {
   "display_name": "Python 3",
   "language": "python",
   "name": "python3"
  },
  "language_info": {
   "codemirror_mode": {
    "name": "ipython",
    "version": 3
   },
   "file_extension": ".py",
   "mimetype": "text/x-python",
   "name": "python",
   "nbconvert_exporter": "python",
   "pygments_lexer": "ipython3",
   "version": "3.8.5"
  }
 },
 "nbformat": 4,
 "nbformat_minor": 4
}
